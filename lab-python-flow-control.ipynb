{
 "cells": [
  {
   "cell_type": "markdown",
   "id": "d3bfc191-8885-42ee-b0a0-bbab867c6f9f",
   "metadata": {
    "tags": []
   },
   "source": [
    "# Lab | Flow Control"
   ]
  },
  {
   "cell_type": "markdown",
   "id": "3851fcd1-cf98-4653-9c89-e003b7ec9400",
   "metadata": {},
   "source": [
    "## Exercise: Managing Customer Orders Optimized\n",
    "\n",
    "In the last lab, you were starting an online store that sells various products. To ensure smooth operations, you developed a program that manages customer orders and inventory.\n",
    "\n",
    "You did so without using flow control. Let's go a step further and improve this code.\n",
    "\n",
    "Follow the steps below to complete the exercise:\n",
    "\n",
    "1. Look at your code from the lab data structures, and improve repeated code with loops.\n",
    "\n",
    "2. Instead of asking the user to input the name of three products that a customer wants to order, do the following:\n",
    "    \n",
    "    a. Prompt the user to enter the name of a product that a customer wants to order.\n",
    "    \n",
    "    b. Add the product name to the \"customer_orders\" set.\n",
    "    \n",
    "    c. Ask the user if they want to add another product (yes/no).\n",
    "    \n",
    "    d. Continue the loop until the user does not want to add another product.\n",
    "\n",
    "3. Instead of updating the inventory by subtracting 1 from the quantity of each product, only do it for  the products that were ordered (those in \"customer_orders\")."
   ]
  },
  {
   "cell_type": "code",
   "execution_count": 7,
   "id": "f2e58957-22f8-4825-9a5c-1ea0f7fbe99a",
   "metadata": {},
   "outputs": [
    {
     "name": "stdin",
     "output_type": "stream",
     "text": [
      "Please enter the number of t-shirts available in inventory: 200\n",
      "Please enter the number of mugs available in inventory: 200\n",
      "Please enter the number of hats available in inventory: 200\n",
      "Please enter the number of books available in inventory: 200\n",
      "Please enter the number of keychains available in inventory: 200\n"
     ]
    }
   ],
   "source": [
    "products = [ \"t-shirt\", \"mug\", \"hat\", \"book\", \"keychain\"]\n",
    "inventory={}\n",
    "for product in products:\n",
    "    product_quantity= int(input(f\"Please enter the number of {product}s available in inventory:\"))\n",
    "    inventory[product]= product_quantity\n"
   ]
  },
  {
   "cell_type": "code",
   "execution_count": 13,
   "id": "4fbe0f95-d37a-4ce4-8826-2418f063203a",
   "metadata": {},
   "outputs": [
    {
     "name": "stdin",
     "output_type": "stream",
     "text": [
      "Please enter the name of the product you wish to order:  mug\n"
     ]
    },
    {
     "name": "stdout",
     "output_type": "stream",
     "text": [
      "'mug' has been added to your order.\n"
     ]
    },
    {
     "name": "stdin",
     "output_type": "stream",
     "text": [
      "Would you like to add another product? (yes/no):  yes\n",
      "Please enter the name of the product you wish to order:  book\n"
     ]
    },
    {
     "name": "stdout",
     "output_type": "stream",
     "text": [
      "'book' has been added to your order.\n"
     ]
    },
    {
     "name": "stdin",
     "output_type": "stream",
     "text": [
      "Would you like to add another product? (yes/no):  ñlh\n"
     ]
    },
    {
     "name": "stdout",
     "output_type": "stream",
     "text": [
      "Option not valid. Please confirm if you wish to add another product by typing \"yes\" or \"no\".\n"
     ]
    },
    {
     "name": "stdin",
     "output_type": "stream",
     "text": [
      "Would you like to add another product? (yes/no):  yes\n",
      "Please enter the name of the product you wish to order:  ñoh\n"
     ]
    },
    {
     "name": "stdout",
     "output_type": "stream",
     "text": [
      "'ñoh' is not a valid product. Please choose from: ['t-shirt', 'mug', 'hat', 'book', 'keychain'].\n"
     ]
    },
    {
     "name": "stdin",
     "output_type": "stream",
     "text": [
      "Would you like to add another product? (yes/no):  yes\n",
      "Please enter the name of the product you wish to order:  t-shirt\n"
     ]
    },
    {
     "name": "stdout",
     "output_type": "stream",
     "text": [
      "'t-shirt' has been added to your order.\n"
     ]
    },
    {
     "name": "stdin",
     "output_type": "stream",
     "text": [
      "Would you like to add another product? (yes/no):  no\n"
     ]
    },
    {
     "name": "stdout",
     "output_type": "stream",
     "text": [
      "\n",
      "Customer Order:\n",
      "t-shirt\n",
      "book\n",
      "mug\n"
     ]
    }
   ],
   "source": [
    "customer_orders = set()\n",
    "products = [\"t-shirt\", \"mug\", \"hat\", \"book\", \"keychain\"]\n",
    "\n",
    "while True:\n",
    "    order = input(\"Please enter the name of the product you wish to order: \").strip().lower()\n",
    "\n",
    "    if order in products:\n",
    "        customer_orders.add(order)\n",
    "        print(f\"'{order}' has been added to your order.\")\n",
    "    else:\n",
    "        print(f\"'{order}' is not a valid product. Please choose from: {products}.\")\n",
    "\n",
    "    while True:  \n",
    "        additional_order = input(\"Would you like to add another product? (yes/no): \").strip().lower()\n",
    "\n",
    "        if additional_order == \"yes\":\n",
    "            break  \n",
    "        elif additional_order == \"no\":\n",
    "            print(\"\\nCustomer Order:\")\n",
    "            for product in customer_orders:\n",
    "                print(f\"{product}\")\n",
    "            break  \n",
    "        else:\n",
    "            print('Option not valid. Please confirm if you wish to add another product by typing \"yes\" or \"no\".')\n",
    "\n",
    "    if additional_order == \"no\":  \n",
    "        break"
   ]
  },
  {
   "cell_type": "code",
   "execution_count": 15,
   "id": "b393b6b5-0f00-421d-a1cc-3ffcd8cdec92",
   "metadata": {},
   "outputs": [
    {
     "name": "stdout",
     "output_type": "stream",
     "text": [
      "\n",
      "Updated Inventory:\n",
      "t-shirt: 199\n",
      "mug: 199\n",
      "hat: 200\n",
      "book: 199\n",
      "keychain: 200\n"
     ]
    }
   ],
   "source": [
    "for product in customer_orders:\n",
    "    if inventory[product] > 0:  \n",
    "        inventory[product] -= 1\n",
    "\n",
    "print(\"\\nUpdated Inventory:\")\n",
    "for product, quantity in inventory.items():\n",
    "    print(f\"{product}: {quantity}\")"
   ]
  },
  {
   "cell_type": "code",
   "execution_count": null,
   "id": "c9b8943d-1633-4fa4-be88-76922ba9c61f",
   "metadata": {},
   "outputs": [],
   "source": []
  }
 ],
 "metadata": {
  "kernelspec": {
   "display_name": "Python [conda env:base] *",
   "language": "python",
   "name": "conda-base-py"
  },
  "language_info": {
   "codemirror_mode": {
    "name": "ipython",
    "version": 3
   },
   "file_extension": ".py",
   "mimetype": "text/x-python",
   "name": "python",
   "nbconvert_exporter": "python",
   "pygments_lexer": "ipython3",
   "version": "3.12.7"
  }
 },
 "nbformat": 4,
 "nbformat_minor": 5
}
